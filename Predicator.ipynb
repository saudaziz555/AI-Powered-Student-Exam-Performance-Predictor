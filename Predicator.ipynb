{
  "nbformat": 4,
  "nbformat_minor": 0,
  "metadata": {
    "colab": {
      "provenance": [],
      "authorship_tag": "ABX9TyOrLOnkbHzRh8njDFZvZvrz",
      "include_colab_link": true
    },
    "kernelspec": {
      "name": "python3",
      "display_name": "Python 3"
    },
    "language_info": {
      "name": "python"
    }
  },
  "cells": [
    {
      "cell_type": "markdown",
      "metadata": {
        "id": "view-in-github",
        "colab_type": "text"
      },
      "source": [
        "<a href=\"https://colab.research.google.com/github/saudaziz555/AI-Powered-Student-Exam-Performance-Predictor/blob/main/Predicator.ipynb\" target=\"_parent\"><img src=\"https://colab.research.google.com/assets/colab-badge.svg\" alt=\"Open In Colab\"/></a>"
      ]
    },
    {
      "cell_type": "markdown",
      "source": [
        "# 2"
      ],
      "metadata": {
        "id": "A9L5Xahw8WXP"
      }
    },
    {
      "cell_type": "code",
      "source": [
        "pip install streamlit pyngrok pandas scikit-learn xgboost joblib matplotlib seaborn openpyxl -q"
      ],
      "metadata": {
        "collapsed": true,
        "id": "D52-a0_PFf_W"
      },
      "execution_count": 1,
      "outputs": []
    },
    {
      "cell_type": "code",
      "source": [
        "%%writefile app.py\n",
        "import streamlit as st\n",
        "import pandas as pd\n",
        "import matplotlib.pyplot as plt\n",
        "import seaborn as sns\n",
        "import joblib\n",
        "import io\n",
        "from xgboost import XGBClassifier\n",
        "from sklearn.model_selection import train_test_split\n",
        "from sklearn.metrics import accuracy_score, classification_report\n",
        "\n",
        "\n",
        "st.set_page_config(page_title=\"Student Exam Predictor\", layout=\"wide\")\n",
        "\n",
        "#sidebar\n",
        "with st.sidebar:\n",
        "    st.title(\"Student Dashboard\")\n",
        "    st.markdown(\"---\")\n",
        "\n",
        "    st.header(\"Upload Data\")\n",
        "    uploaded_file = st.file_uploader(\"Upload Excel File\", type=[\"xlsx\", \"xls\"])\n",
        "\n",
        "    st.header(\"Settings\")\n",
        "    threshold = st.slider(\"Pass Mark Threshold\", 0, 100, 20)\n",
        "    retrain = st.button(\"Retrain Model\")\n",
        "\n",
        "# title\n",
        "st.title(\"Student Exam Prediction Dashboard\")\n",
        "st.markdown(\"This dashboard analyzes student outcomes and predicts pass/fail status using AI.\")\n",
        "\n",
        "# train Model Function\n",
        "def train_model(file, threshold):\n",
        "    try:\n",
        "        data = pd.read_excel(file)\n",
        "    except Exception as e:\n",
        "        st.error(f\"Failed to read file: {e}\")\n",
        "        return None, None\n",
        "\n",
        "    mark_column = [col for col in data.columns if 'mark' in col.lower()]\n",
        "    if not mark_column:\n",
        "        st.error(\"No column containing 'mark' found.\")\n",
        "        return None, None\n",
        "    mark_col = mark_column[0]\n",
        "\n",
        "    data['pass'] = (data[mark_col] >= threshold).astype(int)\n",
        "    outcome_cols = [col for col in data.columns if 'outcome' in col.lower()]\n",
        "    if not outcome_cols:\n",
        "        st.error(\"No 'outcome' columns found.\")\n",
        "        return None, None\n",
        "\n",
        "    id_cols = [col for col in data.columns if 'id' in col.lower()]\n",
        "    if not id_cols:\n",
        "        st.error(\"No 'ID' column found.\")\n",
        "        return None, None\n",
        "    student_id_col = id_cols[0]\n",
        "\n",
        "    X = data[outcome_cols]\n",
        "    y = data['pass']\n",
        "\n",
        "    X_train, X_test, y_train, y_test = train_test_split(X, y, stratify=y, test_size=0.2, random_state=42)\n",
        "    model = XGBClassifier(eval_metric='logloss', random_state=42)\n",
        "    model.fit(X_train, y_train)\n",
        "\n",
        "    y_pred = model.predict(X_test)\n",
        "    acc = accuracy_score(y_test, y_pred)\n",
        "    st.toast(f\"Model trained with accuracy: {acc:.2%}\", icon=\"✅\")\n",
        "\n",
        "    joblib.dump(model, \"model.pkl\")\n",
        "    data['pass_probability'] = model.predict_proba(X)[:, 1]\n",
        "\n",
        "    results = data[[student_id_col, 'pass', 'pass_probability', mark_col]]\n",
        "    return results, model\n",
        "\n",
        "# main\n",
        "if 'data' not in st.session_state or retrain:\n",
        "    if uploaded_file:\n",
        "        st.session_state.data, st.session_state.model = train_model(uploaded_file, threshold)\n",
        "    else:\n",
        "        st.info(\"Please upload an Excel file.\")\n",
        "\n",
        "if 'data' in st.session_state and st.session_state.data is not None:\n",
        "    df = st.session_state.data\n",
        "\n",
        "    #metric cards\n",
        "    col1, col2, col3, col4 = st.columns(4)\n",
        "    col1.metric(\"Total Students\", f\"{len(df)}\")\n",
        "    col2.metric(\"Pass Rate\", f\"{df['pass'].mean():.2%}\")\n",
        "    col3.metric(\"Average Mark\", f\"{df.iloc[:, 3].mean():.2f}\")\n",
        "    col4.metric(\"Most Frequent Mark\", f\"{df.iloc[:, 3].mode().values[0]}\")\n",
        "\n",
        "    #distribution\n",
        "    st.subheader(\"Pass Probability Distribution\")\n",
        "    fig1, ax1 = plt.subplots(figsize=(8, 4))\n",
        "    sns.histplot(df['pass_probability'], bins=10, kde=True, ax=ax1, color='skyblue')\n",
        "    ax1.set_xlabel(\"Pass Probability\")\n",
        "    ax1.set_ylabel(\"Number of Students\")\n",
        "    st.pyplot(fig1)\n",
        "\n",
        "    # feature importance\n",
        "    try:\n",
        "        model = st.session_state.model\n",
        "        importance = model.feature_importances_\n",
        "        features = model.get_booster().feature_names\n",
        "\n",
        "        st.subheader(\"Feature Importance\")\n",
        "        fig2, ax2 = plt.subplots(figsize=(8, 4))\n",
        "        sns.barplot(x=importance, y=features, palette=\"viridis\", ax=ax2)\n",
        "        ax2.set_xlabel(\"Importance\")\n",
        "        ax2.set_ylabel(\"Feature\")\n",
        "        st.pyplot(fig2)\n",
        "    except Exception as e:\n",
        "        st.warning(f\"Could not plot feature importance: {e}\")\n",
        "\n",
        "    # show table and download\n",
        "    st.subheader(\"Prediction Results\")\n",
        "    st.dataframe(df.style.format({'pass_probability': '{:.2%}'}))\n",
        "\n",
        "    buffer = io.BytesIO()\n",
        "    df.to_excel(buffer, index=False, engine='openpyxl')\n",
        "    buffer.seek(0)\n",
        "    st.download_button(\"Download Results as Excel\", data=buffer, file_name=\"student_predictions.xlsx\", mime=\"application/vnd.openxmlformats-officedocument.spreadsheetml.sheet\")\n",
        "else:\n",
        "    st.info(\"Upload data and train the model to view results.\")\n"
      ],
      "metadata": {
        "colab": {
          "base_uri": "https://localhost:8080/"
        },
        "id": "Tt7N63NFKwOp",
        "outputId": "821a7229-8ede-4449-c505-896c491ee367"
      },
      "execution_count": 2,
      "outputs": [
        {
          "output_type": "stream",
          "name": "stdout",
          "text": [
            "Overwriting app.py\n"
          ]
        }
      ]
    },
    {
      "cell_type": "code",
      "source": [
        "from pyngrok import ngrok\n",
        "import subprocess\n",
        "import time\n",
        "from google.colab import userdata\n",
        "\n",
        "ngrok_token = userdata.get('NGROK_TOKEN')\n",
        "ngrok.set_auth_token(ngrok_token)\n",
        "\n",
        "\n",
        "# Start Streamlit in the background\n",
        "process = subprocess.Popen(['streamlit', 'run', 'app.py'])\n",
        "\n",
        "time.sleep(5)  # Wait a few seconds for the server to start\n",
        "\n",
        "# Open tunnel to port 8501 (default Streamlit port)\n",
        "public_url = ngrok.connect(8501)\n",
        "print(f\"Streamlit app is running at: {public_url}\")\n",
        "\n"
      ],
      "metadata": {
        "colab": {
          "base_uri": "https://localhost:8080/"
        },
        "outputId": "a9943b87-406c-4595-d978-450e3e72bd00",
        "id": "dFKqYCTD8q7m"
      },
      "execution_count": 3,
      "outputs": [
        {
          "output_type": "stream",
          "name": "stdout",
          "text": [
            "Streamlit app is running at: NgrokTunnel: \"https://2f9c-34-81-166-117.ngrok-free.app\" -> \"http://localhost:8501\"\n"
          ]
        }
      ]
    }
  ]
}